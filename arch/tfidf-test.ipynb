{
 "cells": [
  {
   "cell_type": "code",
   "execution_count": 3,
   "id": "99368756",
   "metadata": {},
   "outputs": [
    {
     "name": "stderr",
     "output_type": "stream",
     "text": [
      "[nltk_data] Downloading package stopwords to\n",
      "[nltk_data]     C:\\Users\\kpaks\\AppData\\Roaming\\nltk_data...\n",
      "[nltk_data]   Package stopwords is already up-to-date!\n"
     ]
    },
    {
     "data": {
      "text/plain": [
       "True"
      ]
     },
     "execution_count": 3,
     "metadata": {},
     "output_type": "execute_result"
    }
   ],
   "source": [
    "import os\n",
    "import json\n",
    "import re\n",
    "\n",
    "import pandas as pd\n",
    "import numpy as np\n",
    "from nltk import word_tokenize\n",
    "from nltk.corpus import stopwords\n",
    "from nltk.stem.porter import PorterStemmer\n",
    "import nltk\n",
    "from sklearn.pipeline import Pipeline\n",
    "from sklearn.feature_extraction.text import TfidfVectorizer, TfidfTransformer, CountVectorizer\n",
    "\n",
    "nltk.download('stopwords')"
   ]
  },
  {
   "cell_type": "code",
   "execution_count": 7,
   "id": "7f70857f",
   "metadata": {},
   "outputs": [
    {
     "name": "stdout",
     "output_type": "stream",
     "text": [
      "Motivation_and_Goals__Part_3 Expecting value: line 1 column 1 (char 0)\n",
      "Motivation_and_Goals__Part_4 Expecting value: line 1 column 1 (char 0)\n",
      "Psychiatrist_Reacts Expecting value: line 1 column 1 (char 0)\n",
      "Therapist_Reacts Expecting value: line 1 column 1 (char 0)\n",
      "Therapist_Talks Expecting value: line 1 column 1 (char 0)\n"
     ]
    }
   ],
   "source": [
    "documents_path = os.path.join('..', 'data', 'subtitles')\n",
    "documents = os.listdir(documents_path)\n",
    "\n",
    "texts = []\n",
    "titles = []\n",
    "for document in documents:\n",
    "    try:\n",
    "        doc_path = os.path.join('..', 'data', 'subtitles', document)\n",
    "\n",
    "        with open(doc_path, 'r') as f:\n",
    "            doc_json = json.load(f)\n",
    "\n",
    "        # get sentences\n",
    "        sents = pd.DataFrame(doc_json)['text'].to_numpy()\n",
    "\n",
    "        # get the document and truncate empty spaces\n",
    "        doc = ' '.join(sents)\n",
    "        doc = re.sub('\\s+', ' ', doc)\n",
    "        \n",
    "        texts.append(doc)\n",
    "        titles.append(document[:-5])\n",
    "\n",
    "    except Exception as e:\n",
    "        print(document, e)"
   ]
  },
  {
   "cell_type": "code",
   "execution_count": 8,
   "id": "6237da47",
   "metadata": {},
   "outputs": [],
   "source": [
    "porter_stemmer = PorterStemmer()\n",
    "stop_words = stopwords.words('english') + ['like', 'right', '__', '_connector_']"
   ]
  },
  {
   "cell_type": "code",
   "execution_count": 9,
   "id": "aa700201",
   "metadata": {},
   "outputs": [],
   "source": [
    "def preproc(text):\n",
    "    text = text.lower()\n",
    "    text = re.sub(\"\\\\s+(in|the|all|for|and|on)\\\\s+\", \" _connector_ \", text)  # normalize certain words\n",
    "\n",
    "    # stem words\n",
    "    words = re.split(\"\\\\s+\", text)\n",
    "    stemmed_words = [porter_stemmer.stem(word=word) for word in words if word not in stop_words]\n",
    "    return ' '.join(stemmed_words)"
   ]
  },
  {
   "cell_type": "code",
   "execution_count": 10,
   "id": "56094075",
   "metadata": {},
   "outputs": [],
   "source": [
    "pipe = Pipeline([('count', CountVectorizer(stop_words=stop_words, preprocessor=preproc)),\n",
    "                 ('tfidf', TfidfTransformer())])\n",
    "pipe.fit(texts)\n",
    "\n",
    "X = pipe.transform(texts)\n",
    "feature_names = pipe['count'].get_feature_names()"
   ]
  },
  {
   "cell_type": "code",
   "execution_count": 11,
   "id": "1815297e",
   "metadata": {},
   "outputs": [],
   "source": [
    "t = \"I have trouble speaking to other people and feel very awkward in social situations.\"\n",
    "testrow = pipe.transform([t])"
   ]
  },
  {
   "cell_type": "code",
   "execution_count": 15,
   "id": "7eb116ed",
   "metadata": {},
   "outputs": [
    {
     "data": {
      "text/plain": [
       "76"
      ]
     },
     "execution_count": 15,
     "metadata": {},
     "output_type": "execute_result"
    }
   ],
   "source": [
    "from sklearn.metrics.pairwise import cosine_similarity\n",
    "\n",
    "similarities = cosine_similarity(X, testrow)\n",
    "np.argmax(similarities)"
   ]
  },
  {
   "cell_type": "code",
   "execution_count": 16,
   "id": "3c3bf4c5",
   "metadata": {},
   "outputs": [],
   "source": [
    "testdf = pd.DataFrame(testrow.T.todense(), index=feature_names, columns=['test'])\n",
    "compdf = pd.DataFrame(X[76].T.todense(), index=feature_names, columns=['comp'])"
   ]
  },
  {
   "cell_type": "code",
   "execution_count": 17,
   "id": "a28d61fb",
   "metadata": {},
   "outputs": [
    {
     "data": {
      "text/html": [
       "<div>\n",
       "<style scoped>\n",
       "    .dataframe tbody tr th:only-of-type {\n",
       "        vertical-align: middle;\n",
       "    }\n",
       "\n",
       "    .dataframe tbody tr th {\n",
       "        vertical-align: top;\n",
       "    }\n",
       "\n",
       "    .dataframe thead th {\n",
       "        text-align: right;\n",
       "    }\n",
       "</style>\n",
       "<table border=\"1\" class=\"dataframe\">\n",
       "  <thead>\n",
       "    <tr style=\"text-align: right;\">\n",
       "      <th></th>\n",
       "      <th>comp</th>\n",
       "    </tr>\n",
       "  </thead>\n",
       "  <tbody>\n",
       "    <tr>\n",
       "      <th>go</th>\n",
       "      <td>0.338670</td>\n",
       "    </tr>\n",
       "    <tr>\n",
       "      <th>know</th>\n",
       "      <td>0.234203</td>\n",
       "    </tr>\n",
       "    <tr>\n",
       "      <th>appendix</th>\n",
       "      <td>0.226625</td>\n",
       "    </tr>\n",
       "    <tr>\n",
       "      <th>vestigi</th>\n",
       "      <td>0.226625</td>\n",
       "    </tr>\n",
       "    <tr>\n",
       "      <th>outsid</th>\n",
       "      <td>0.224590</td>\n",
       "    </tr>\n",
       "    <tr>\n",
       "      <th>bacteria</th>\n",
       "      <td>0.200821</td>\n",
       "    </tr>\n",
       "    <tr>\n",
       "      <th>book</th>\n",
       "      <td>0.179618</td>\n",
       "    </tr>\n",
       "    <tr>\n",
       "      <th>dune</th>\n",
       "      <td>0.173531</td>\n",
       "    </tr>\n",
       "    <tr>\n",
       "      <th>peopl</th>\n",
       "      <td>0.133174</td>\n",
       "    </tr>\n",
       "    <tr>\n",
       "      <th>get</th>\n",
       "      <td>0.123990</td>\n",
       "    </tr>\n",
       "    <tr>\n",
       "      <th>churn</th>\n",
       "      <td>0.123614</td>\n",
       "    </tr>\n",
       "    <tr>\n",
       "      <th>park</th>\n",
       "      <td>0.121935</td>\n",
       "    </tr>\n",
       "    <tr>\n",
       "      <th>thing</th>\n",
       "      <td>0.120622</td>\n",
       "    </tr>\n",
       "    <tr>\n",
       "      <th>butter</th>\n",
       "      <td>0.116979</td>\n",
       "    </tr>\n",
       "    <tr>\n",
       "      <th>friend</th>\n",
       "      <td>0.115079</td>\n",
       "    </tr>\n",
       "    <tr>\n",
       "      <th>societi</th>\n",
       "      <td>0.112916</td>\n",
       "    </tr>\n",
       "    <tr>\n",
       "      <th>grab</th>\n",
       "      <td>0.111367</td>\n",
       "    </tr>\n",
       "    <tr>\n",
       "      <th>social</th>\n",
       "      <td>0.109936</td>\n",
       "    </tr>\n",
       "    <tr>\n",
       "      <th>bookstor</th>\n",
       "      <td>0.103012</td>\n",
       "    </tr>\n",
       "    <tr>\n",
       "      <th>read</th>\n",
       "      <td>0.102679</td>\n",
       "    </tr>\n",
       "  </tbody>\n",
       "</table>\n",
       "</div>"
      ],
      "text/plain": [
       "              comp\n",
       "go        0.338670\n",
       "know      0.234203\n",
       "appendix  0.226625\n",
       "vestigi   0.226625\n",
       "outsid    0.224590\n",
       "bacteria  0.200821\n",
       "book      0.179618\n",
       "dune      0.173531\n",
       "peopl     0.133174\n",
       "get       0.123990\n",
       "churn     0.123614\n",
       "park      0.121935\n",
       "thing     0.120622\n",
       "butter    0.116979\n",
       "friend    0.115079\n",
       "societi   0.112916\n",
       "grab      0.111367\n",
       "social    0.109936\n",
       "bookstor  0.103012\n",
       "read      0.102679"
      ]
     },
     "execution_count": 17,
     "metadata": {},
     "output_type": "execute_result"
    }
   ],
   "source": [
    "compdf.sort_values('comp', ascending=False).iloc[:20]"
   ]
  },
  {
   "cell_type": "code",
   "execution_count": 18,
   "id": "49101606",
   "metadata": {},
   "outputs": [
    {
     "data": {
      "text/html": [
       "<div>\n",
       "<style scoped>\n",
       "    .dataframe tbody tr th:only-of-type {\n",
       "        vertical-align: middle;\n",
       "    }\n",
       "\n",
       "    .dataframe tbody tr th {\n",
       "        vertical-align: top;\n",
       "    }\n",
       "\n",
       "    .dataframe thead th {\n",
       "        text-align: right;\n",
       "    }\n",
       "</style>\n",
       "<table border=\"1\" class=\"dataframe\">\n",
       "  <thead>\n",
       "    <tr style=\"text-align: right;\">\n",
       "      <th></th>\n",
       "      <th>test</th>\n",
       "    </tr>\n",
       "  </thead>\n",
       "  <tbody>\n",
       "    <tr>\n",
       "      <th>awkward</th>\n",
       "      <td>0.691623</td>\n",
       "    </tr>\n",
       "    <tr>\n",
       "      <th>troubl</th>\n",
       "      <td>0.465935</td>\n",
       "    </tr>\n",
       "    <tr>\n",
       "      <th>social</th>\n",
       "      <td>0.356064</td>\n",
       "    </tr>\n",
       "    <tr>\n",
       "      <th>speak</th>\n",
       "      <td>0.274024</td>\n",
       "    </tr>\n",
       "    <tr>\n",
       "      <th>feel</th>\n",
       "      <td>0.230036</td>\n",
       "    </tr>\n",
       "    <tr>\n",
       "      <th>peopl</th>\n",
       "      <td>0.223100</td>\n",
       "    </tr>\n",
       "    <tr>\n",
       "      <th>planner</th>\n",
       "      <td>0.000000</td>\n",
       "    </tr>\n",
       "    <tr>\n",
       "      <th>planet</th>\n",
       "      <td>0.000000</td>\n",
       "    </tr>\n",
       "    <tr>\n",
       "      <th>plane</th>\n",
       "      <td>0.000000</td>\n",
       "    </tr>\n",
       "    <tr>\n",
       "      <th>pl</th>\n",
       "      <td>0.000000</td>\n",
       "    </tr>\n",
       "    <tr>\n",
       "      <th>plain</th>\n",
       "      <td>0.000000</td>\n",
       "    </tr>\n",
       "    <tr>\n",
       "      <th>plant</th>\n",
       "      <td>0.000000</td>\n",
       "    </tr>\n",
       "    <tr>\n",
       "      <th>placenta</th>\n",
       "      <td>0.000000</td>\n",
       "    </tr>\n",
       "    <tr>\n",
       "      <th>placement</th>\n",
       "      <td>0.000000</td>\n",
       "    </tr>\n",
       "    <tr>\n",
       "      <th>plaqu</th>\n",
       "      <td>0.000000</td>\n",
       "    </tr>\n",
       "    <tr>\n",
       "      <th>placebo</th>\n",
       "      <td>0.000000</td>\n",
       "    </tr>\n",
       "    <tr>\n",
       "      <th>place</th>\n",
       "      <td>0.000000</td>\n",
       "    </tr>\n",
       "    <tr>\n",
       "      <th>plan</th>\n",
       "      <td>0.000000</td>\n",
       "    </tr>\n",
       "    <tr>\n",
       "      <th>00</th>\n",
       "      <td>0.000000</td>\n",
       "    </tr>\n",
       "    <tr>\n",
       "      <th>plasminogen</th>\n",
       "      <td>0.000000</td>\n",
       "    </tr>\n",
       "  </tbody>\n",
       "</table>\n",
       "</div>"
      ],
      "text/plain": [
       "                 test\n",
       "awkward      0.691623\n",
       "troubl       0.465935\n",
       "social       0.356064\n",
       "speak        0.274024\n",
       "feel         0.230036\n",
       "peopl        0.223100\n",
       "planner      0.000000\n",
       "planet       0.000000\n",
       "plane        0.000000\n",
       "pl           0.000000\n",
       "plain        0.000000\n",
       "plant        0.000000\n",
       "placenta     0.000000\n",
       "placement    0.000000\n",
       "plaqu        0.000000\n",
       "placebo      0.000000\n",
       "place        0.000000\n",
       "plan         0.000000\n",
       "00           0.000000\n",
       "plasminogen  0.000000"
      ]
     },
     "execution_count": 18,
     "metadata": {},
     "output_type": "execute_result"
    }
   ],
   "source": [
    "testdf.sort_values('test', ascending=False).iloc[:20]"
   ]
  },
  {
   "cell_type": "code",
   "execution_count": null,
   "id": "31655741",
   "metadata": {},
   "outputs": [],
   "source": []
  }
 ],
 "metadata": {
  "kernelspec": {
   "display_name": "git-conda38",
   "language": "python",
   "name": "git-conda38"
  },
  "language_info": {
   "codemirror_mode": {
    "name": "ipython",
    "version": 3
   },
   "file_extension": ".py",
   "mimetype": "text/x-python",
   "name": "python",
   "nbconvert_exporter": "python",
   "pygments_lexer": "ipython3",
   "version": "3.8.11"
  }
 },
 "nbformat": 4,
 "nbformat_minor": 5
}
